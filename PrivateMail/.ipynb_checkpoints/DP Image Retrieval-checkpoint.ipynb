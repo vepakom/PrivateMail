{
 "cells": [
  {
   "cell_type": "code",
   "execution_count": 1,
   "metadata": {},
   "outputs": [],
   "source": [
    "import numpy as np\n",
    "import torch"
   ]
  },
  {
   "cell_type": "markdown",
   "metadata": {},
   "source": [
    "# Data pre-processing"
   ]
  },
  {
   "cell_type": "markdown",
   "metadata": {},
   "source": [
    "Only run once after installing and extracting datasets to the `data/` directory."
   ]
  },
  {
   "cell_type": "code",
   "execution_count": null,
   "metadata": {
    "scrolled": true
   },
   "outputs": [],
   "source": [
    "%run data_utils.py"
   ]
  },
  {
   "cell_type": "markdown",
   "metadata": {},
   "source": [
    "# CGD Train"
   ]
  },
  {
   "cell_type": "markdown",
   "metadata": {},
   "source": [
    "data_name: 'car' or 'cub'.\n",
    "\n",
    "See https://github.com/leftthomas/CGD for explanation of other parameters."
   ]
  },
  {
   "cell_type": "code",
   "execution_count": null,
   "metadata": {
    "scrolled": true
   },
   "outputs": [],
   "source": [
    "%run train.py --data_name 'car' --feature_dim 64 --batch_size 32 --gd_config 'SG' --recalls 8"
   ]
  },
  {
   "cell_type": "markdown",
   "metadata": {},
   "source": [
    "# PrivateMail Image Retrieval"
   ]
  },
  {
   "cell_type": "markdown",
   "metadata": {},
   "source": [
    "## Initialization"
   ]
  },
  {
   "cell_type": "markdown",
   "metadata": {},
   "source": [
    "Choose dataset: 'car' or 'cub'"
   ]
  },
  {
   "cell_type": "code",
   "execution_count": 2,
   "metadata": {},
   "outputs": [],
   "source": [
    "data_name = 'car' #or 'cub'"
   ]
  },
  {
   "cell_type": "markdown",
   "metadata": {},
   "source": [
    "Embedding parameters are tuned for car and cub datasets"
   ]
  },
  {
   "cell_type": "code",
   "execution_count": 3,
   "metadata": {
    "scrolled": true
   },
   "outputs": [],
   "source": [
    "from privateMail import DPImageRetriever\n",
    "\n",
    "# Default embedding parameters\n",
    "if data_name == 'car':\n",
    "    # Copy path from CGD train output to results/ folder\n",
    "    data_base_name = 'car_cropped_resnet50_SG_64_0.1_0.5_0.1_32_data_base.pth' # Copy path from CGD train output to results/ folder\n",
    "    embed_params = {'sigma': 6, \n",
    "                    'alpha': 0.6, \n",
    "                    'dim': 2, \n",
    "                    'sigma_q':1e-8, \n",
    "                    'iters': 5}\n",
    "else:\n",
    "    data_base_name = 'cub_cropped_resnet50_G_64_0.1_0.5_0.1_32_data_base.pth' \n",
    "    embed_params = {'sigma': 5, \n",
    "                    'alpha': 0.5, \n",
    "                    'dim': 2, \n",
    "                    'sigma_q':1e-8, \n",
    "                    'iters': 5}\n",
    "    \n",
    "data_base = torch.load('results/{}'.format(data_base_name))\n",
    "    \n",
    "# Default noise parameters    \n",
    "noise_params = {'epsilon': 0.01,\n",
    "                'delta': 1e-5} \n",
    "\n",
    "# Use public dataset of size 1000\n",
    "retriever = DPImageRetriever(data_base, embed_params, noise_params=noise_params, n_public=1000, n_gallery=-1)"
   ]
  },
  {
   "cell_type": "markdown",
   "metadata": {},
   "source": [
    "### Optional: Update embedding and noise parameters"
   ]
  },
  {
   "cell_type": "code",
   "execution_count": 9,
   "metadata": {},
   "outputs": [],
   "source": [
    "retriever.set_embed_params(sigma=6, alpha=0.6, dim=2, sigma_q=1e-8, iters=5)\n",
    "retriever.set_noise_params(epsilon=0.01, delta=1e-5)"
   ]
  },
  {
   "cell_type": "markdown",
   "metadata": {},
   "source": [
    "## Measure recall@k"
   ]
  },
  {
   "cell_type": "markdown",
   "metadata": {},
   "source": [
    "Non-private SMLQ:"
   ]
  },
  {
   "cell_type": "code",
   "execution_count": 5,
   "metadata": {},
   "outputs": [
    {
     "name": "stderr",
     "output_type": "stream",
     "text": [
      "Computing recall@8: 100%|██████████| 8130/8130 [10:59<00:00, 12.32it/s]"
     ]
    },
    {
     "name": "stdout",
     "output_type": "stream",
     "text": [
      "Recall: 0.8432964329643297\n"
     ]
    },
    {
     "name": "stderr",
     "output_type": "stream",
     "text": [
      "\n"
     ]
    },
    {
     "data": {
      "text/plain": [
       "0.8432964329643297"
      ]
     },
     "execution_count": 5,
     "metadata": {},
     "output_type": "execute_result"
    }
   ],
   "source": [
    "retriever.recall(k=8, noise=False, verbose=True) "
   ]
  },
  {
   "cell_type": "markdown",
   "metadata": {},
   "source": [
    "PrivateMail SMLQ:"
   ]
  },
  {
   "cell_type": "code",
   "execution_count": 10,
   "metadata": {},
   "outputs": [
    {
     "name": "stderr",
     "output_type": "stream",
     "text": [
      "Computing recall@8 for ε = 0.01, δ = 1e-05: 100%|██████████| 8130/8130 [21:35<00:00,  6.28it/s]"
     ]
    },
    {
     "name": "stdout",
     "output_type": "stream",
     "text": [
      "Recall: 0.8151291512915129\n"
     ]
    },
    {
     "name": "stderr",
     "output_type": "stream",
     "text": [
      "\n"
     ]
    },
    {
     "data": {
      "text/plain": [
       "0.8151291512915129"
      ]
     },
     "execution_count": 10,
     "metadata": {},
     "output_type": "execute_result"
    }
   ],
   "source": [
    "retriever.recall(k=8, noise=True, verbose=True) "
   ]
  },
  {
   "cell_type": "markdown",
   "metadata": {},
   "source": [
    "\n",
    "## Retrieve images for single query"
   ]
  },
  {
   "cell_type": "markdown",
   "metadata": {},
   "source": [
    "Retrieves $k$ images for specified query image. Files are saved in the /results folder."
   ]
  },
  {
   "cell_type": "code",
   "execution_count": 5,
   "metadata": {},
   "outputs": [
    {
     "name": "stdout",
     "output_type": "stream",
     "text": [
      "Query image: data/car/cropped/014228.jpg\n",
      "Query label: 73\n",
      "Retrieved labels: [73, 73, 73, 73, 73, 74, 73, 74]\n"
     ]
    }
   ],
   "source": [
    "query_img_name = np.random.choice(retriever.gallery_images) # Or specify query file name\n",
    "retrieved_img_names, retrieved_labels = retriever.run_query(query_img_name, k=8, noise=False, verbose=True, save=True)"
   ]
  },
  {
   "cell_type": "code",
   "execution_count": null,
   "metadata": {},
   "outputs": [],
   "source": []
  }
 ],
 "metadata": {
  "kernelspec": {
   "display_name": "Python 3",
   "language": "python",
   "name": "python3"
  },
  "language_info": {
   "codemirror_mode": {
    "name": "ipython",
    "version": 3
   },
   "file_extension": ".py",
   "mimetype": "text/x-python",
   "name": "python",
   "nbconvert_exporter": "python",
   "pygments_lexer": "ipython3",
   "version": "3.6.12"
  }
 },
 "nbformat": 4,
 "nbformat_minor": 2
}
