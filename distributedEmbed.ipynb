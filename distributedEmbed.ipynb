{
 "cells": [
  {
   "cell_type": "code",
   "execution_count": null,
   "metadata": {},
   "outputs": [],
   "source": [
    "from sklearn.metrics.pairwise import rbf_kernel\n",
    "import numpy as np\n",
    "\n",
    "def embed(sigma_vec, k_vec, X, Y, Gamma, kernel=True):\n",
    "    def my_laplacian(A):\n",
    "        D = A.sum(dim=0)\n",
    "        return torch.diag(D) - A\n",
    "    \n",
    "    dist_X = torch.cdist(X, X)\n",
    "    dist_Y = torch.cdist(Y, Y).cuda()\n",
    "    n = len(Y)\n",
    "    I_X = torch.eye(n).cuda()\n",
    "    J = I_X - 1/n * torch.ones(n, n).cuda() #1/n_concat * torch.ones(n_concat, n_concat)\n",
    "    WX = -0.5 * J @ dist_X @ J\n",
    "    WY = -0.5 * J @ dist_Y @ J\n",
    "\n",
    "    embeddings = {}\n",
    "    rProjs = {}\n",
    "    \n",
    "    for k in k_vec:\n",
    "        for sigma in sigma_vec:\n",
    "            LY = my_laplacian(WY)\n",
    "            if not kernel:\n",
    "                LX = WX\n",
    "            else: \n",
    "                gamma = 1/(sigma**2)\n",
    "                w = rbf_kernel(X.cpu().numpy(), gamma=gamma)\n",
    "                np.fill_diagonal(w, 0)\n",
    "                LX = my_laplacian(torch.tensor(w)).cuda()\n",
    "                \n",
    "            diag_LX = torch.diag(0.5 * (1/(torch.diag(LX) + 0.000000001)))\n",
    "            \n",
    "            pLI = k*LY - LX\n",
    "            embedding = (diag_LX @ pLI @ Gamma) + Gamma\n",
    "            embeddings[(k, sigma)] = embedding\n",
    "    \n",
    "    return embeddings"
   ]
  },
  {
   "cell_type": "code",
   "execution_count": null,
   "metadata": {},
   "outputs": [],
   "source": [
    "sigma_vec = [100]\n",
    "k_vec = [1000]\n",
    "dim = 2\n",
    "Gamma = torch.randn(len(label_concat), dim).cuda()\n",
    "embedding = embed(sigma_vec, k_vec, feature_concat, label_concat, Gamma)[(1000,100)]"
   ]
  }
 ],
 "metadata": {
  "kernelspec": {
   "display_name": "Python 3",
   "language": "python",
   "name": "python3"
  },
  "language_info": {
   "codemirror_mode": {
    "name": "ipython",
    "version": 3
   },
   "file_extension": ".py",
   "mimetype": "text/x-python",
   "name": "python",
   "nbconvert_exporter": "python",
   "pygments_lexer": "ipython3",
   "version": "3.7.7"
  }
 },
 "nbformat": 4,
 "nbformat_minor": 4
}
