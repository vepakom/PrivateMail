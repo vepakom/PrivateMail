{
 "cells": [
  {
   "cell_type": "code",
   "execution_count": 29,
   "metadata": {},
   "outputs": [
    {
     "name": "stderr",
     "output_type": "stream",
     "text": [
      "/usr/local/lib/python3.6/dist-packages/ipykernel_launcher.py:39: UserWarning: To copy construct from a tensor, it is recommended to use sourceTensor.clone().detach() or sourceTensor.clone().detach().requires_grad_(True), rather than torch.tensor(sourceTensor).\n",
      "/usr/local/lib/python3.6/dist-packages/ipykernel_launcher.py:40: UserWarning: To copy construct from a tensor, it is recommended to use sourceTensor.clone().detach() or sourceTensor.clone().detach().requires_grad_(True), rather than torch.tensor(sourceTensor).\n"
     ]
    }
   ],
   "source": [
    "import argparse\n",
    "import os\n",
    "import shutil\n",
    "import numpy as np\n",
    "\n",
    "import torch\n",
    "from PIL import Image, ImageDraw\n",
    "\n",
    "'''\n",
    "parser = argparse.ArgumentParser(description='Test CGD')\n",
    "parser.add_argument('--query_img_name', default='/home/data/car/uncropped/008055.jpg', type=str,\n",
    "                    help='query image name')\n",
    "parser.add_argument('--data_base', default='car_uncropped_resnet50_SG_1536_0.1_0.5_0.1_128_data_base.pth',\n",
    "                    type=str, help='queried database')\n",
    "parser.add_argument('--retrieval_num', default=8, type=int, help='retrieval number')\n",
    "\n",
    "opt = parser.parse_args()\n",
    "'''\n",
    "\n",
    "query_img_name = np.random.choice(data_base['test_images'])\n",
    "data_base_name = 'cub_cropped_resnet50_G_64_0.1_0.5_0.1_32_data_base.pth'\n",
    "retrieval_num = 8\n",
    "data_name = data_base_name.split('_')[0]\n",
    "\n",
    "data_base = torch.load('results/{}'.format(data_base_name))\n",
    "\n",
    "if query_img_name not in data_base['test_images']:\n",
    "    raise FileNotFoundError('{} not found'.format(query_img_name))\n",
    "query_index = data_base['test_images'].index(query_img_name)\n",
    "query_image = Image.open(query_img_name).convert('RGB').resize((224, 224), resample=Image.BILINEAR)\n",
    "query_label = torch.tensor(data_base['test_labels'][query_index])\n",
    "query_feature = data_base['test_features'][query_index]\n",
    "\n",
    "gallery_images = data_base['{}_images'.format('test' if data_name != 'isc' else 'gallery')]\n",
    "gallery_labels = torch.tensor(data_base['{}_labels'.format('test' if data_name != 'isc' else 'gallery')])\n",
    "gallery_features = data_base['{}_features'.format('test' if data_name != 'isc' else 'gallery')]\n",
    "\n",
    "feature_concat = torch.cat((query_feature[None, :], gallery_features))\n",
    "query_label = torch.tensor(torch.reshape(query_label, (1,1)), dtype=torch.float32)\n",
    "gallery_labels = torch.tensor(gallery_labels[:, None], dtype=torch.float32)\n",
    "label_concat = torch.cat((query_label, gallery_labels))"
   ]
  },
  {
   "cell_type": "code",
   "execution_count": 2,
   "metadata": {},
   "outputs": [],
   "source": [
    "from sklearn.metrics.pairwise import rbf_kernel\n",
    "import numpy as np\n",
    "\n",
    "def embed(sigma_vec, k_vec, X, Y, Gamma, kernel=True):\n",
    "    def my_laplacian(A):\n",
    "        D = A.sum(dim=0)\n",
    "        return torch.diag(D) - A\n",
    "    \n",
    "    dist_X = torch.cdist(X, X)\n",
    "    dist_Y = torch.cdist(Y, Y).cuda()\n",
    "    n = len(Y)\n",
    "    I_X = torch.eye(n).cuda()\n",
    "    J = I_X - 1/n * torch.ones(n, n).cuda() #1/n_concat * torch.ones(n_concat, n_concat)\n",
    "    WX = -0.5 * J @ dist_X @ J\n",
    "    WY = -0.5 * J @ dist_Y @ J\n",
    "\n",
    "    embeddings = {}\n",
    "    rProjs = {}\n",
    "    \n",
    "    for k in k_vec:\n",
    "        for sigma in sigma_vec:\n",
    "            LY = my_laplacian(WY)\n",
    "            if not kernel:\n",
    "                LX = WX\n",
    "            else: \n",
    "                gamma = 1/(sigma**2)\n",
    "                w = rbf_kernel(X.cpu().numpy(), gamma=gamma)\n",
    "                np.fill_diagonal(w, 0)\n",
    "                LX = my_laplacian(torch.tensor(w)).cuda()\n",
    "                \n",
    "            diag_LX = torch.diag(0.5 * (1/(torch.diag(LX) + 0.000000001)))\n",
    "            \n",
    "            pLI = k*LY - LX\n",
    "            embedding = (diag_LX @ pLI @ Gamma) + Gamma\n",
    "            embeddings[(k, sigma)] = embedding\n",
    "    \n",
    "    return embeddings"
   ]
  },
  {
   "cell_type": "code",
   "execution_count": 30,
   "metadata": {},
   "outputs": [],
   "source": [
    "sigma_vec = [100]\n",
    "k_vec = [1000]\n",
    "dim = 2\n",
    "Gamma = torch.randn(len(label_concat), dim).cuda()\n",
    "embedding = embed(sigma_vec, k_vec, feature_concat, label_concat, Gamma)[(1000,100)]"
   ]
  },
  {
   "cell_type": "code",
   "execution_count": 32,
   "metadata": {},
   "outputs": [],
   "source": [
    "dist_matrix = torch.cdist(embedding[0][None,:], embedding[1:]).squeeze()\n",
    "if data_name != 'isc':\n",
    "    dist_matrix[query_index] = float('inf')\n",
    "idx = dist_matrix.topk(k=retrieval_num, dim=-1, largest=False)[1]\n",
    "\n",
    "result_path = 'results/{}'.format(query_img_name.split('/')[-1].split('.')[0])\n",
    "if os.path.exists(result_path):\n",
    "    shutil.rmtree(result_path)\n",
    "os.mkdir(result_path)\n",
    "query_image.save('{}/query_img.jpg'.format(result_path))\n",
    "for num, index in enumerate(idx):\n",
    "    retrieval_image = Image.open(gallery_images[index.item()]).convert('RGB') \\\n",
    "        .resize((224, 224), resample=Image.BILINEAR)\n",
    "    draw = ImageDraw.Draw(retrieval_image)\n",
    "    retrieval_label = gallery_labels[index.item()]\n",
    "    retrieval_status = (retrieval_label == query_label).item()\n",
    "    retrieval_dist = dist_matrix[index.item()].item()\n",
    "    if retrieval_status:\n",
    "        draw.rectangle((0, 0, 223, 223), outline='green', width=8)\n",
    "    else:\n",
    "        draw.rectangle((0, 0, 223, 223), outline='red', width=8)\n",
    "    retrieval_image.save('{}/retrieval_img_{}_{}.jpg'.format(result_path, num + 1, '%.4f' % retrieval_dist))"
   ]
  },
  {
   "cell_type": "code",
   "execution_count": null,
   "metadata": {},
   "outputs": [],
   "source": []
  }
 ],
 "metadata": {
  "kernelspec": {
   "display_name": "Python 3",
   "language": "python",
   "name": "python3"
  },
  "language_info": {
   "codemirror_mode": {
    "name": "ipython",
    "version": 3
   },
   "file_extension": ".py",
   "mimetype": "text/x-python",
   "name": "python",
   "nbconvert_exporter": "python",
   "pygments_lexer": "ipython3",
   "version": "3.7.7"
  }
 },
 "nbformat": 4,
 "nbformat_minor": 2
}
